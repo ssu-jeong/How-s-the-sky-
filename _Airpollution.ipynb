{
  "nbformat": 4,
  "nbformat_minor": 0,
  "metadata": {
    "colab": {
      "name": "\bAirpollution.ipynb",
      "private_outputs": true,
      "provenance": [],
      "collapsed_sections": []
    },
    "kernelspec": {
      "name": "python3",
      "display_name": "Python 3"
    },
    "language_info": {
      "name": "python"
    }
  },
  "cells": [
    {
      "cell_type": "markdown",
      "metadata": {
        "id": "RNjySj-m5i5t"
      },
      "source": [
        "### 데이터 처리\n",
        "\n",
        "\n",
        "\n"
      ]
    },
    {
      "cell_type": "code",
      "metadata": {
        "id": "v_tzzRNBiY67"
      },
      "source": [
        "# Google Colab을 사용하는 경우 해당 셀을 실행하세요\n",
        "%%capture\n",
        "import sys\n",
        "\n",
        "if 'google.colab' in sys.modules:\n",
        "    # Install packages in Colab\n",
        "    !pip install category_encoders==2.*\n",
        "    !pip install eli5\n",
        "    !pip install pandas-profiling==2.*\n",
        "    !pip install pdpbox\n",
        "    !pip install shap"
      ],
      "execution_count": null,
      "outputs": []
    },
    {
      "cell_type": "code",
      "metadata": {
        "id": "vn5s7bhNUpeZ"
      },
      "source": [
        "#드라이브에 접근할 수 있도록 아래 코드 입력\n",
        "from google.colab import drive\n",
        "drive.mount('/content/drive')"
      ],
      "execution_count": null,
      "outputs": []
    },
    {
      "cell_type": "code",
      "metadata": {
        "id": "p8Pb06lMtzpX"
      },
      "source": [
        "import numpy as np\n",
        "import pandas as pd\n",
        "import matplotlib.pyplot as plt\n",
        "import seaborn as sns\n",
        "\n",
        "#Importing Models\n",
        "from sklearn.ensemble import RandomForestClassifier #,BaggingRegressor,AdaBoostRegressor\n",
        "from xgboost import XGBRegressor\n",
        "from sklearn.compose import TransformedTargetRegressor\n",
        "\n",
        "#importing Preprocess \n",
        "from sklearn.model_selection import train_test_split, GridSearchCV, RandomizedSearchCV\n",
        "from category_encoders import OrdinalEncoder, TargetEncoder\n",
        "from sklearn.impute import SimpleImputer\n",
        "from sklearn.pipeline import make_pipeline\n",
        "from scipy.stats import randint,uniform\n",
        "\n",
        "#importing Evaluation Metrics\n",
        "from sklearn.metrics import mean_absolute_error,mean_squared_error,r2_score, f1_score\n",
        "from sklearn.metrics import mean_squared_log_error\n",
        "import warnings\n",
        "warnings.simplefilter(action='ignore', category=FutureWarning)\n",
        "\n",
        "import eli5\n",
        "from eli5.sklearn import PermutationImportance"
      ],
      "execution_count": null,
      "outputs": []
    },
    {
      "cell_type": "code",
      "metadata": {
        "id": "AT4cZ057d4-j"
      },
      "source": [
        "#불러올 파일의 경로를 filename 변수에 저장\n",
        "filename = '/content/drive/MyDrive/AirPollutionSeoul/Measurement_summary.csv'\n",
        "filename2 = '/content/drive/MyDrive/AirPollutionSeoul/Original Data/Measurement_item_info.csv'"
      ],
      "execution_count": null,
      "outputs": []
    },
    {
      "cell_type": "code",
      "metadata": {
        "id": "Ua-mQvEDeE1P"
      },
      "source": [
        "#pandas read_csv로 불러오기\n",
        "\n",
        "df = pd.read_csv(filename)\n",
        "item_info = pd.read_csv(filename2)\n",
        "df.head()"
      ],
      "execution_count": null,
      "outputs": []
    },
    {
      "cell_type": "code",
      "metadata": {
        "id": "2sjtU1KVPrJK"
      },
      "source": [
        "df.tail()"
      ],
      "execution_count": null,
      "outputs": []
    },
    {
      "cell_type": "code",
      "metadata": {
        "id": "TNRrTrvifIyn"
      },
      "source": [
        "item_info # Standard value of all of the factors"
      ],
      "execution_count": null,
      "outputs": []
    },
    {
      "cell_type": "markdown",
      "metadata": {
        "id": "Mf8luQW11CoP"
      },
      "source": [
        "### EDA\n"
      ]
    },
    {
      "cell_type": "code",
      "metadata": {
        "id": "4VDxSK22yVbh"
      },
      "source": [
        "#data cleaning\n",
        "\n",
        "df.isnull()"
      ],
      "execution_count": null,
      "outputs": []
    },
    {
      "cell_type": "code",
      "metadata": {
        "id": "gCDscVtMrL5Y"
      },
      "source": [
        "# checking weather data has any missing value or not\n",
        "sns.heatmap(df.isnull(),yticklabels=False,cbar=False,cmap='viridis')"
      ],
      "execution_count": null,
      "outputs": []
    },
    {
      "cell_type": "markdown",
      "metadata": {
        "id": "hHTWAcTdrix1"
      },
      "source": [
        "Now we can conclude there is no any missing value in data given as there is plane bar for all factors"
      ]
    },
    {
      "cell_type": "code",
      "metadata": {
        "id": "df3F_2Yfrk12"
      },
      "source": [
        "df.info()"
      ],
      "execution_count": null,
      "outputs": []
    },
    {
      "cell_type": "code",
      "metadata": {
        "id": "NM0hMVpbrwRf"
      },
      "source": [
        "req_data=df[['SO2','NO2','O3','CO','PM10','PM2.5']]\n",
        "req_data.describe()"
      ],
      "execution_count": null,
      "outputs": []
    },
    {
      "cell_type": "markdown",
      "metadata": {
        "id": "tAngrV94sNFE"
      },
      "source": [
        "conclusion from description of data-\n",
        "\n",
        "SO2 has mean count '-0.001795' which is much lesser than Good satandard.\n",
        "\n",
        "NO2 has mean count '0.022519' which is also lesser than Good satandard of NO2.\n",
        "\n",
        "O3 has mean count '0.017979' which is also lesser than Good satandard of O3.\n",
        "\n",
        "CO has mean count '0.017979' which is also lesser than Good satandard of CO.\n",
        "\n",
        "PM10 has mean count '43.708051' it will come under Normal standard of PM10.\n",
        "\n",
        "PM2.5 has mean count '25.411995' it will also come under Normal standard of PM2.5.\n",
        "\n",
        "so overall Seoul has good air Quality"
      ]
    },
    {
      "cell_type": "code",
      "metadata": {
        "id": "CcF152PVsOnh"
      },
      "source": [
        "#그래서 무슨 의민데?\n",
        "plt.figure(figsize=(12,8))\n",
        "sns.boxplot(data=req_data)"
      ],
      "execution_count": null,
      "outputs": []
    },
    {
      "cell_type": "markdown",
      "metadata": {
        "id": "FPv_CL0CEO50"
      },
      "source": [
        "### 컬럼추가\n"
      ]
    },
    {
      "cell_type": "code",
      "metadata": {
        "id": "h0ukAd7rsTcB"
      },
      "source": [
        "# converting 'SO2' value in their standard\n",
        "def measure(x):\n",
        "    if x<=0.02:\n",
        "        return 'good'\n",
        "    elif 0.02<x<=0.05:\n",
        "        return 'normal'\n",
        "    elif 0.05<x<=0.15:\n",
        "        return 'bad'\n",
        "    else:\n",
        "        return 'very bad'\n",
        "    \n",
        "SO2_measure=list(map(measure,req_data['SO2']))"
      ],
      "execution_count": null,
      "outputs": []
    },
    {
      "cell_type": "code",
      "metadata": {
        "id": "g__jd-eXsVbS"
      },
      "source": [
        "# converting 'NO2' value in their standard\n",
        "def measure(x):\n",
        "    if x<=0.03:\n",
        "        return 'good'\n",
        "    elif 0.03<x<=0.06:\n",
        "        return 'normal'\n",
        "    elif 0.06<x<=0.20:\n",
        "        return 'bad'\n",
        "    else:\n",
        "        return 'very bad'\n",
        "    \n",
        "NO2_measure=list(map(measure,req_data['NO2']))"
      ],
      "execution_count": null,
      "outputs": []
    },
    {
      "cell_type": "code",
      "metadata": {
        "id": "8kTB9P_SsXFH"
      },
      "source": [
        "# converting 'O3' value in their standard\n",
        "def measure(x):\n",
        "    if x<=0.02:\n",
        "        return 'good'\n",
        "    elif 0.02<x<=0.05:\n",
        "        return 'normal'\n",
        "    elif 0.05<x<=0.15:\n",
        "        return 'bad'\n",
        "    else:\n",
        "        return 'very bad'\n",
        "    \n",
        "O3_measure=list(map(measure,req_data['O3']))"
      ],
      "execution_count": null,
      "outputs": []
    },
    {
      "cell_type": "code",
      "metadata": {
        "id": "S6xqU897sZqV"
      },
      "source": [
        "# converting 'CO' value in their standard\n",
        "def measure(x):\n",
        "    if x<=2.00:\n",
        "        return 'good'\n",
        "    elif 2.00<x<=9.00:\n",
        "        return 'normal'\n",
        "    elif 9.00<x<=15.00:\n",
        "        return 'bad'\n",
        "    else:\n",
        "        return 'very bad'\n",
        "    \n",
        "CO_measure=list(map(measure,req_data['CO']))"
      ],
      "execution_count": null,
      "outputs": []
    },
    {
      "cell_type": "code",
      "metadata": {
        "id": "7M5EDOm6sbGg"
      },
      "source": [
        "# converting 'PM10' value in their standard\n",
        "def measure(x):\n",
        "    if x<=30.00:\n",
        "        return 'good'\n",
        "    elif 30.00<x<=80.00:\n",
        "        return 'normal'\n",
        "    elif 80.00<x<=150.00:\n",
        "        return 'bad'\n",
        "    else:\n",
        "        return 'very bad'\n",
        "    \n",
        "PM10_measure=list(map(measure,req_data['PM10']))"
      ],
      "execution_count": null,
      "outputs": []
    },
    {
      "cell_type": "code",
      "metadata": {
        "id": "VwteC_JBsbxW"
      },
      "source": [
        "# converting 'PM2.5' value in their standard\n",
        "def measure(x):\n",
        "    if x<=15.00:\n",
        "        return 'good'\n",
        "    elif 15.00<x<=35.00:\n",
        "        return 'normal'\n",
        "    elif 35.00<x<=75.00:\n",
        "        return 'bad'\n",
        "    else:\n",
        "        return 'very bad'\n",
        "    \n",
        "PM25_measure=list(map(measure,req_data['PM2.5']))"
      ],
      "execution_count": null,
      "outputs": []
    },
    {
      "cell_type": "code",
      "metadata": {
        "id": "a8J-0kojxpmV"
      },
      "source": [
        "#'O3' 주의보 발령은 '1', 주의보 발령 아닐 경우 '0'\n",
        "def measure2(x):\n",
        "    if x>=0.12:\n",
        "        return '1'\n",
        "    else:\n",
        "        return '0'\n",
        "    \n",
        "O3_measure2=list(map(measure2,req_data['O3']))"
      ],
      "execution_count": null,
      "outputs": []
    },
    {
      "cell_type": "code",
      "metadata": {
        "id": "eX1MI3dgyCmV"
      },
      "source": [
        "#'PM10' 주의보 발령은 '1', 주의보 발령 아닐 경우 '0'\n",
        "def measure2(x):\n",
        "    if x>=150:\n",
        "        return '1'\n",
        "    else:\n",
        "        return '0'\n",
        "    \n",
        "PM10_measure2=list(map(measure2,req_data['PM10']))"
      ],
      "execution_count": null,
      "outputs": []
    },
    {
      "cell_type": "code",
      "metadata": {
        "id": "5i80107pyQbj"
      },
      "source": [
        "#'PM2.5' 주의보 발령은 '1', 주의보 발령 아닐 경우 '0'\n",
        "def measure2(x):\n",
        "    if x>=75:\n",
        "        return '1'\n",
        "    else:\n",
        "        return '0'\n",
        "    \n",
        "PM25_measure2=list(map(measure2,req_data['PM2.5']))"
      ],
      "execution_count": null,
      "outputs": []
    },
    {
      "cell_type": "code",
      "metadata": {
        "id": "mhQ97Gc2EFQL"
      },
      "source": [
        "lst = []\n",
        "for i in req_data['SO2']:\n",
        "    if i > 0.05:\n",
        "        lst.append(1)\n",
        "    else:\n",
        "        lst.append(0)\n",
        "\n",
        "test_df = pd.DataFrame(lst)"
      ],
      "execution_count": null,
      "outputs": []
    },
    {
      "cell_type": "code",
      "metadata": {
        "id": "btlKwtY6IppD"
      },
      "source": [
        "lst = []\n",
        "for i in req_data['NO2']:\n",
        "    if i > 0.06:\n",
        "        lst.append(1)\n",
        "    else:\n",
        "        lst.append(0)\n",
        "\n",
        "test_df2 = pd.DataFrame(lst)"
      ],
      "execution_count": null,
      "outputs": []
    },
    {
      "cell_type": "code",
      "metadata": {
        "id": "jHU_bTvfIpkF"
      },
      "source": [
        "lst = []\n",
        "for i in req_data['O3']:\n",
        "    if i > 0.05:\n",
        "        lst.append(1)\n",
        "    else:\n",
        "        lst.append(0)\n",
        "\n",
        "test_df3 = pd.DataFrame(lst)"
      ],
      "execution_count": null,
      "outputs": []
    },
    {
      "cell_type": "code",
      "metadata": {
        "id": "PZnD2l5_Ipf4"
      },
      "source": [
        "lst = []\n",
        "for i in req_data['CO']:\n",
        "    if i > 9:\n",
        "        lst.append(1)\n",
        "    else:\n",
        "        lst.append(0)\n",
        "\n",
        "test_df4 = pd.DataFrame(lst)"
      ],
      "execution_count": null,
      "outputs": []
    },
    {
      "cell_type": "code",
      "metadata": {
        "id": "9T6AYzTiIpbf"
      },
      "source": [
        "lst = []\n",
        "for i in req_data['PM10']:\n",
        "    if i >80:\n",
        "        lst.append(1)\n",
        "    else:\n",
        "        lst.append(0)\n",
        "\n",
        "test_df5 = pd.DataFrame(lst)"
      ],
      "execution_count": null,
      "outputs": []
    },
    {
      "cell_type": "code",
      "metadata": {
        "id": "fPfBo7jEIpWM"
      },
      "source": [
        "lst = []\n",
        "for i in req_data['PM2.5']:\n",
        "    if i >35:\n",
        "        lst.append(1)\n",
        "    else:\n",
        "        lst.append(0)\n",
        "\n",
        "test_df6 = pd.DataFrame(lst)"
      ],
      "execution_count": null,
      "outputs": []
    },
    {
      "cell_type": "code",
      "metadata": {
        "id": "cj7iHV5Nyej6"
      },
      "source": [
        "req_data['SO2_standard']=SO2_measure\n",
        "req_data['NO2_standard']=NO2_measure\n",
        "req_data['O3_standard']=O3_measure\n",
        "req_data['CO_standard']=CO_measure\n",
        "req_data['PM10_standard']=PM10_measure\n",
        "req_data['PM2.5_standard']=PM25_measure\n",
        "req_data['O3_warning']=O3_measure2\n",
        "req_data['PM10_warning']=PM10_measure2\n",
        "req_data['PM2.5_warning']=PM25_measure2\n",
        "req_data['SO2_bad'] = test_df\n",
        "req_data['NO2_bad'] = test_df2\n",
        "req_data['O3_bad'] = test_df3\n",
        "req_data['CO_bad'] = test_df4\n",
        "req_data['PM10_bad'] = test_df5\n",
        "req_data['PM2.5_bad'] = test_df6"
      ],
      "execution_count": null,
      "outputs": []
    },
    {
      "cell_type": "markdown",
      "metadata": {
        "id": "XVQW5R9pEdQB"
      },
      "source": [
        "### target 만들기\n"
      ]
    },
    {
      "cell_type": "code",
      "metadata": {
        "id": "2ejtiDNpy30D"
      },
      "source": [
        "req_data['total_bad'] = req_data['SO2_bad'] + req_data['NO2_bad'] + req_data['O3_bad'] + req_data['CO_bad'] + req_data['PM10_bad'] + req_data['PM2.5_bad']\n",
        "req_data['total_bad']"
      ],
      "execution_count": null,
      "outputs": []
    },
    {
      "cell_type": "code",
      "metadata": {
        "id": "bQ8w9ANoOXL0"
      },
      "source": [
        "lst =[]\n",
        "for i in req_data['total_bad']:\n",
        "    if i == 4:\n",
        "        lst.append(1)\n",
        "\n",
        "    else:\n",
        "        lst.append(0)"
      ],
      "execution_count": null,
      "outputs": []
    },
    {
      "cell_type": "code",
      "metadata": {
        "id": "7UK3mkYNPow_"
      },
      "source": [
        "req_data['total_bad'] = pd.DataFrame(lst)"
      ],
      "execution_count": null,
      "outputs": []
    },
    {
      "cell_type": "code",
      "metadata": {
        "id": "jBLmfjEwPxqc"
      },
      "source": [
        "req_data['total_bad']"
      ],
      "execution_count": null,
      "outputs": []
    },
    {
      "cell_type": "code",
      "metadata": {
        "id": "wqjq33ATQJIY"
      },
      "source": [
        "req_data"
      ],
      "execution_count": null,
      "outputs": []
    },
    {
      "cell_type": "markdown",
      "metadata": {
        "id": "3phXr6oXEh6f"
      },
      "source": [
        "### 타겟 확인\n"
      ]
    },
    {
      "cell_type": "code",
      "metadata": {
        "id": "YYxrZXDhOREl"
      },
      "source": [
        "sum(req_data['total_bad']==1)"
      ],
      "execution_count": null,
      "outputs": []
    },
    {
      "cell_type": "code",
      "metadata": {
        "id": "pMNRcF2R3Kff"
      },
      "source": [
        "sum(req_data['PM2.5_warning']==1)"
      ],
      "execution_count": null,
      "outputs": []
    },
    {
      "cell_type": "code",
      "metadata": {
        "id": "DQINupAo2duA"
      },
      "source": [
        "sum(req_data['PM10_warning']==1)"
      ],
      "execution_count": null,
      "outputs": []
    },
    {
      "cell_type": "code",
      "metadata": {
        "id": "p-VuebfBs1-s"
      },
      "source": [
        "#so2의 품질기준 분석\n",
        "sns.countplot(x='SO2_standard',data=req_data)"
      ],
      "execution_count": null,
      "outputs": []
    },
    {
      "cell_type": "code",
      "metadata": {
        "id": "j6YomkLgtCqF"
      },
      "source": [
        "#no2의 품질기준 분석\n",
        "sns.countplot(x='NO2_standard',data=req_data)"
      ],
      "execution_count": null,
      "outputs": []
    },
    {
      "cell_type": "code",
      "metadata": {
        "id": "0uwXfHu9tGj5"
      },
      "source": [
        "#o3의 품질기준 분석\n",
        "sns.countplot(x='O3_standard',data=req_data)"
      ],
      "execution_count": null,
      "outputs": []
    },
    {
      "cell_type": "code",
      "metadata": {
        "id": "HNaMAzeEtIEE"
      },
      "source": [
        "#co의 품질기준 분석\n",
        "sns.countplot(x='CO_standard',data=req_data)"
      ],
      "execution_count": null,
      "outputs": []
    },
    {
      "cell_type": "code",
      "metadata": {
        "id": "5UBRjwPOtVo9"
      },
      "source": [
        "#PM10의 품질기준 분석\n",
        "sns.countplot(x='PM10_standard',data=req_data)"
      ],
      "execution_count": null,
      "outputs": []
    },
    {
      "cell_type": "code",
      "metadata": {
        "id": "3NXzZ6PxteEl"
      },
      "source": [
        "#PM2.5의 품질기준 분석\n",
        "sns.countplot(x='PM2.5_standard',data=req_data)"
      ],
      "execution_count": null,
      "outputs": []
    },
    {
      "cell_type": "markdown",
      "metadata": {
        "id": "_TqgFd4qtiht"
      },
      "source": [
        "From above figures we can see that SO2 and CO level is quite good as all the data observed to be of 'good' standard. O3 has much lesser quality than these two factors as some data are observed of 'normal' and 'bad' standard and PM10 and PM2.5 has to be notice as there is very_bad standard of these factors observed."
      ]
    },
    {
      "cell_type": "code",
      "metadata": {
        "id": "yiJV5IhPtmNR"
      },
      "source": [
        "plt.figure(figsize=(8,8))\n",
        "sns.heatmap(req_data.corr(),\n",
        "            vmin=0,\n",
        "            cmap='coolwarm',\n",
        "            annot=True);"
      ],
      "execution_count": null,
      "outputs": []
    },
    {
      "cell_type": "markdown",
      "metadata": {
        "id": "QJmmR8yMtrSU"
      },
      "source": [
        "At here from the above picture we can see that there is high correlation in between 'SO2 and O3' and lowest correlation is in between'O3 and PM 2.5'"
      ]
    },
    {
      "cell_type": "code",
      "metadata": {
        "id": "DvdMukP9QgcD"
      },
      "source": [
        "req_data.to_csv('/content/drive/MyDrive/req_data.csv', index = False)"
      ],
      "execution_count": null,
      "outputs": []
    },
    {
      "cell_type": "code",
      "metadata": {
        "id": "6r-fv-_RT6mk"
      },
      "source": [
        "data = req_data.drop(columns=['SO2_bad', 'NO2_bad', 'CO_bad', 'O3_bad', 'PM10_bad', 'PM2.5_bad'])\n",
        "data.info()"
      ],
      "execution_count": null,
      "outputs": []
    },
    {
      "cell_type": "markdown",
      "metadata": {
        "id": "Liyf1rkwEl26"
      },
      "source": [
        "### 특성엔지니어링"
      ]
    },
    {
      "cell_type": "code",
      "metadata": {
        "id": "j0uxWcqwkzpG"
      },
      "source": [
        "#특성엔지니어링\n",
        "\n",
        "def engineer(data):\n",
        "    data['SO2_standard'] = pd.to_numeric(data['SO2_standard'].replace(['good', 'normal', 'bad', 'very bad'], [0,1,2,3]))\n",
        "\n",
        "    data['NO2_standard'] = pd.to_numeric(data['NO2_standard'].replace(['good', 'normal', 'bad', 'very bad'], [0,1,2,3]))\n",
        "\n",
        "    data['CO_standard'] = pd.to_numeric(data['CO_standard'].replace(['good', 'normal', 'bad', 'very bad'], [0,1,2,3]))\n",
        "    \n",
        "    data['O3_standard'] = pd.to_numeric(data['O3_standard'].replace(['good', 'normal', 'bad', 'very bad'], [0,1,2,3]))\n",
        " \n",
        "    data['PM2.5_standard'] = pd.to_numeric(data['PM2.5_standard'].replace(['good', 'normal', 'bad', 'very bad'], [0,1,2,3]))\n",
        "\n",
        "    data['PM10_standard'] = pd.to_numeric(data['PM10_standard'].replace(['good', 'normal', 'bad', 'very bad'], [0,1,2,3]))\n",
        "\n",
        "    return data"
      ],
      "execution_count": null,
      "outputs": []
    },
    {
      "cell_type": "code",
      "metadata": {
        "id": "bApj2RxSiebb"
      },
      "source": [
        "data = engineer(data)"
      ],
      "execution_count": null,
      "outputs": []
    },
    {
      "cell_type": "code",
      "metadata": {
        "id": "96C2Gc2d1kg_"
      },
      "source": [
        "data1 = data[data['total_bad']==1]\n",
        "data1"
      ],
      "execution_count": null,
      "outputs": []
    },
    {
      "cell_type": "code",
      "metadata": {
        "id": "3QQQb8BL3BhE"
      },
      "source": [
        "data = data[data['total_bad']==0]\n",
        "data2 = data.sample(n=10000)\n",
        "data2"
      ],
      "execution_count": null,
      "outputs": []
    },
    {
      "cell_type": "code",
      "metadata": {
        "id": "0KlhLroa3nOW"
      },
      "source": [
        "data3 = data.sample(n=300)\n",
        "data3"
      ],
      "execution_count": null,
      "outputs": []
    },
    {
      "cell_type": "code",
      "metadata": {
        "id": "mIyNni3C6Lh4"
      },
      "source": [
        "dataset = pd.concat([data1,data2], ignore_index=True)\n",
        "dataset"
      ],
      "execution_count": null,
      "outputs": []
    },
    {
      "cell_type": "code",
      "metadata": {
        "id": "XRFLccb4dLI6"
      },
      "source": [
        ""
      ],
      "execution_count": null,
      "outputs": []
    },
    {
      "cell_type": "code",
      "metadata": {
        "id": "F7ADPlbj9jdx"
      },
      "source": [
        "dataset = dataset.drop(columns=['SO2_standard',\t'NO2_standard',\t'O3_standard', 'CO_standard', 'PM10_standard',\t'PM2.5_standard', 'O3_warning',\t'PM10_warning',\t'PM2.5_warning'])\n",
        "dataset"
      ],
      "execution_count": null,
      "outputs": []
    },
    {
      "cell_type": "code",
      "metadata": {
        "id": "5AE_4VI47tfP"
      },
      "source": [
        "dataset2 = pd.concat([data1, data3], ignore_index=True)\n",
        "dataset2"
      ],
      "execution_count": null,
      "outputs": []
    },
    {
      "cell_type": "code",
      "metadata": {
        "id": "duPNNO8k-IjR"
      },
      "source": [
        "dataset2 = dataset2.drop(columns=['SO2_standard', 'NO2_standard', 'O3_standard', 'CO_standard', 'PM10_standard', 'PM2.5_standard', 'O3_warning', 'PM10_warning', 'PM2.5_warning'])\n",
        "dataset2"
      ],
      "execution_count": null,
      "outputs": []
    },
    {
      "cell_type": "code",
      "metadata": {
        "id": "pu-rvNsxj-9X"
      },
      "source": [
        "dataset.to_csv('/content/drive/MyDrive/Airpollution_dataset.csv', index = False)\n",
        "dataset2.to_csv('/content/drive/MyDrive/Airpollution_dataset2.csv', index = False)"
      ],
      "execution_count": null,
      "outputs": []
    },
    {
      "cell_type": "code",
      "metadata": {
        "id": "zldtDqn4c4Jl"
      },
      "source": [
        "#훈련/검증세트로 나누기\n",
        "target = 'total_bad'\n",
        "\n",
        "\n",
        "train, test = train_test_split(dataset, train_size=0.8, \n",
        "                               stratify=dataset[target], random_state=2)\n",
        "\n",
        "train.shape, test.shape"
      ],
      "execution_count": null,
      "outputs": []
    },
    {
      "cell_type": "code",
      "metadata": {
        "id": "dicVQp5Kjb-d"
      },
      "source": [
        "train, val = train_test_split(train, train_size = 0.8,\n",
        "                              stratify=train[target], random_state=2)\n",
        "\n",
        "train.shape, val.shape, test.shape"
      ],
      "execution_count": null,
      "outputs": []
    },
    {
      "cell_type": "code",
      "metadata": {
        "id": "WejlVvyL_mrS"
      },
      "source": [
        "train2, test2 = train_test_split(dataset2, train_size=0.8, \n",
        "                               stratify=dataset2[target], random_state=2)\n",
        "\n",
        "train2.shape, test2.shape"
      ],
      "execution_count": null,
      "outputs": []
    },
    {
      "cell_type": "code",
      "metadata": {
        "id": "CocTFFBACLhW"
      },
      "source": [
        "train2, val2 = train_test_split(train2, train_size = 0.8,\n",
        "                              stratify=train2[target], random_state=2)\n",
        "\n",
        "train2.shape, val2.shape, test2.shape"
      ],
      "execution_count": null,
      "outputs": []
    },
    {
      "cell_type": "code",
      "metadata": {
        "id": "2yxuB-sNo9Kx"
      },
      "source": [
        "# train2 = engineer(train2)\n",
        "# val = engineer(val)\n",
        "# test = engineer(test)"
      ],
      "execution_count": null,
      "outputs": []
    },
    {
      "cell_type": "code",
      "metadata": {
        "id": "5pOIY8hz3h5u"
      },
      "source": [
        "features = train.drop(columns=[target]).columns"
      ],
      "execution_count": null,
      "outputs": []
    },
    {
      "cell_type": "code",
      "metadata": {
        "id": "_bwnafxS3sJe"
      },
      "source": [
        "#훈련/검증/데이터 데스트 특성과 타겟으로 분리\n",
        "X_train = train[features]\n",
        "y_train = train[target]\n",
        "X_val = val[features]\n",
        "y_val = val[target]\n",
        "X_test = test[features]"
      ],
      "execution_count": null,
      "outputs": []
    },
    {
      "cell_type": "code",
      "metadata": {
        "id": "p3k3Igh4CUrl"
      },
      "source": [
        "X_train2 = train2[features]\n",
        "y_train2 = train2[target]\n",
        "X_val2 = val2[features]\n",
        "y_val2 = val2[target]\n",
        "X_test2 = test2[features]"
      ],
      "execution_count": null,
      "outputs": []
    },
    {
      "cell_type": "code",
      "metadata": {
        "id": "0XXmdqZ13xib"
      },
      "source": [
        "pipe = make_pipeline(\n",
        "    SimpleImputer(),\n",
        "    RandomForestClassifier(max_depth= 6, #9\n",
        "                           #min_samples_split = 10,\n",
        "                           #min_samples_leaf = 20, \n",
        "                           #max_leaf_nodes=10, \n",
        "                           #max_features = 24, \n",
        "                           n_estimators = 200, #100\n",
        "                            class_weight='balanced',\n",
        "                           n_jobs=-1,  \n",
        "                           random_state=2, \n",
        "                           oob_score=True))\n",
        "\n",
        "pipe.fit(X_train, y_train)\n",
        "  \n",
        "y_val_pred = pipe.predict(X_val)\n",
        "\n",
        "print('훈련 정확도: ', pipe.score(X_train, y_train))\n",
        "print('검증 정확도: ', pipe.score(X_val, y_val))\n",
        "print('f1_Score', f1_score(y_val, y_val_pred))"
      ],
      "execution_count": null,
      "outputs": []
    },
    {
      "cell_type": "code",
      "metadata": {
        "id": "Y_Oyd0w2CsiR"
      },
      "source": [
        "pipe.fit(X_train2, y_train2)\n",
        "\n",
        "y_val_pred2 = pipe.predict(X_val2)\n",
        "\n",
        "print('훈련 정확도: ', pipe.score(X_train2, y_train2))\n",
        "print('검증 정확도: ', pipe.score(X_val2, y_val2))\n",
        "print('f1_Score', f1_score(y_val2, y_val_pred2))"
      ],
      "execution_count": null,
      "outputs": []
    },
    {
      "cell_type": "code",
      "metadata": {
        "id": "y8I7FhjD3vBH"
      },
      "source": [
        "pipe.predict([[0.06, 0.07, 0.06, 10, 81, 36]])\n"
      ],
      "execution_count": null,
      "outputs": []
    }
  ]
}